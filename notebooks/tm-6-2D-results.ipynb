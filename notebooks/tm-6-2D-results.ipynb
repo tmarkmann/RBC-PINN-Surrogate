{
 "cells": [
  {
   "cell_type": "code",
   "execution_count": null,
   "id": "c1b164c9",
   "metadata": {},
   "outputs": [],
   "source": [
    "import matplotlib.pyplot as plt"
   ]
  },
  {
   "cell_type": "code",
   "execution_count": null,
   "id": "063c12b5",
   "metadata": {},
   "outputs": [],
   "source": [
    "def plot_prediction_error(df_list, label_list, title, ymax, xmax):\n",
    "    # Theme\n",
    "    plt.figure(figsize=(16, 8))\n",
    "    sns.set_theme(style=\"whitegrid\")\n",
    "    sns.set_context(\"paper\", font_scale=3.5)\n",
    "    # Data\n",
    "    for df, label in zip(df_list, label_list):\n",
    "        ax = sns.lineplot(data=df, x=\"tau\", y=\"value\", label=label, linewidth=3)\n",
    "    # Axes plot\n",
    "    ax.set(xlabel=\"tau\", ylabel=\"NSSE\")\n",
    "    ax.set(ylim=(-0.001, ymax), xlim=(0, xmax))\n",
    "    ax.legend()\n",
    "    ax.set_title(title)"
   ]
  }
 ],
 "metadata": {
  "kernelspec": {
   "display_name": "rbc-pinn-surrogate (3.11.12)",
   "language": "python",
   "name": "python3"
  },
  "language_info": {
   "name": "python",
   "version": "3.11.12"
  }
 },
 "nbformat": 4,
 "nbformat_minor": 5
}
