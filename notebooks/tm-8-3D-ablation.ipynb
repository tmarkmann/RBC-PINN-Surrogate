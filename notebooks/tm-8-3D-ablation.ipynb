{
 "cells": [
  {
   "cell_type": "code",
   "execution_count": 70,
   "id": "c1b164c9",
   "metadata": {},
   "outputs": [],
   "source": [
    "import matplotlib as mpl\n",
    "import matplotlib.pyplot as plt\n",
    "import pandas as pd\n",
    "import os\n",
    "import shutil\n",
    "import numpy as np"
   ]
  },
  {
   "cell_type": "code",
   "execution_count": 71,
   "id": "e762a652",
   "metadata": {},
   "outputs": [
    {
     "name": "stdout",
     "output_type": "stream",
     "text": [
      "LaTeX found at: /Library/TeX/texbin/latex\n"
     ]
    }
   ],
   "source": [
    "# matplotlib settings to match LaTeX fonts and style\n",
    "latex_path = shutil.which(\"latex\")\n",
    "print(\"LaTeX found at:\", latex_path if latex_path else \"Not found in PATH\")\n",
    "\n",
    "mpl.rcParams.update(\n",
    "    {\n",
    "        \"text.usetex\": True,\n",
    "        \"font.family\": \"serif\",  # Computer Modern serif\n",
    "        \"text.latex.preamble\": r\"\\usepackage[T1]{fontenc}\\usepackage{amsmath,amssymb,bm}\",\n",
    "        \"axes.labelsize\": 9,  # adjust to match \\small or \\normalsize\n",
    "        \"font.size\": 9,\n",
    "        \"legend.fontsize\": 8,\n",
    "        \"xtick.labelsize\": 8,\n",
    "        \"ytick.labelsize\": 8,\n",
    "    }\n",
    ")\n",
    "\n",
    "\n",
    "def set_size(width_pt=455, fraction=1, aspect=0.62):\n",
    "    \"\"\"Set figure dimensions to fit LaTeX doc.\"\"\"\n",
    "    inches_per_pt = 1 / 72.27\n",
    "    width_in = width_pt * inches_per_pt * fraction\n",
    "    height_in = width_in * aspect\n",
    "    return (width_in, height_in)"
   ]
  },
  {
   "cell_type": "code",
   "execution_count": 72,
   "id": "e2a14052",
   "metadata": {},
   "outputs": [],
   "source": [
    "df_samples_test = pd.read_csv(\"results/ablation/samples.csv\")\n",
    "df_samples_train = pd.read_csv(\"results/ablation/samples_train.csv\")\n",
    "df_params = pd.read_csv(\"results/ablation/params.csv\")"
   ]
  },
  {
   "cell_type": "code",
   "execution_count": 73,
   "id": "58b7237d",
   "metadata": {},
   "outputs": [],
   "source": [
    "# Params\n",
    "params = (\n",
    "    df_params.groupby([\"hidden_channels\"])[\"test/NRSSE\"].agg(mean=\"mean\").reset_index()\n",
    ")\n",
    "\n",
    "samples_test = (\n",
    "    df_samples_test.groupby([\"nr_episodes_train\"])[\"test/NRSSE\"]\n",
    "    .agg(mean=\"mean\")\n",
    "    .reset_index()\n",
    ")\n",
    "\n",
    "samples_train = (\n",
    "    df_samples_train.groupby([\"data.nr_episodes_train\"])[\"train/NRSSE\"]\n",
    "    .agg(mean=\"mean\")\n",
    "    .reset_index()\n",
    ")"
   ]
  },
  {
   "cell_type": "markdown",
   "id": "cf17b18a",
   "metadata": {},
   "source": []
  },
  {
   "cell_type": "code",
   "execution_count": 74,
   "id": "931886b1",
   "metadata": {},
   "outputs": [
    {
     "data": {
      "image/png": "[encoded data removed]",
      "text/plain": [
       "<Figure size 283.313x226.65 with 1 Axes>"
      ]
     },
     "metadata": {},
     "output_type": "display_data"
    }
   ],
   "source": [
    "fig, ax = plt.subplots(figsize=set_size(455, fraction=0.45, aspect=0.8))\n",
    "\n",
    "# x = params[\"hidden_channels\"].values\n",
    "x = [0.446, 1.8, 7.1, 11.1, 16]  # in 1e6\n",
    "y = list(params[\"mean\"].values) + [0.308]\n",
    "\n",
    "plt.plot(x, y, label=\"FNO\", marker=\"o\", markersize=4)\n",
    "\n",
    "ax.set_xlabel(r\"Model Parameters $[10^6]$\")\n",
    "ax.set_xticks([0, 2, 4, 6, 8, 10, 12, 14, 16])\n",
    "ax.set_xlim(left=0, right=17)\n",
    "ax.set_ylabel(r\"Prediction Error\")\n",
    "# ax.set_title(rf\"Rayleigh number ($\\mathrm{{Ra}}={RA:.0e}$)\")\n",
    "ax.set_ylim(bottom=0.25, top=0.6)\n",
    "# ax.set_xlim(left=0, right=100)\n",
    "ax.legend(frameon=False)\n",
    "fig.tight_layout(pad=0.5)\n",
    "fig.savefig(\"figs/params.pdf\")"
   ]
  },
  {
   "cell_type": "code",
   "execution_count": 87,
   "id": "1d2730eb",
   "metadata": {},
   "outputs": [
    {
     "data": {
      "image/png": "[encoded data removed]",
      "text/plain": [
       "<Figure size 283.313x226.65 with 1 Axes>"
      ]
     },
     "metadata": {},
     "output_type": "display_data"
    }
   ],
   "source": [
    "fig, ax = plt.subplots(figsize=set_size(455, fraction=0.45, aspect=0.8))\n",
    "\n",
    "x = samples_test[\"nr_episodes_train\"].values\n",
    "y_test = samples_test[\"mean\"].values\n",
    "y_train = samples_train[\"mean\"].values\n",
    "\n",
    "plt.plot(x, y_test, label=\"FNO (test)\", marker=\"o\", markersize=4)\n",
    "plt.plot(x, y_train, \"--\", label=\"FNO (train)\", marker=\"s\", markersize=4, color=\"C0\")\n",
    "\n",
    "ax.set_xlabel(r\"Training Episodes [\\%]\")\n",
    "ax.set_xlim(left=0, right=52)\n",
    "ax.set_xticks([0, 10, 20, 30, 40, 50], labels=[0, 20, 40, 60, 80, 100])\n",
    "ax.set_ylabel(r\"Prediction Error\")\n",
    "# ax.set_title(rf\"Rayleigh number ($\\mathrm{{Ra}}={RA:.0e}$)\")\n",
    "ax.set_ylim(bottom=0, top=0.6)\n",
    "# ax.set_xlim(left=0, right=100)\n",
    "ax.legend(frameon=False)\n",
    "fig.tight_layout(pad=0.5)\n",
    "fig.savefig(\"figs/samples.pdf\")"
   ]
  }
 ],
 "metadata": {
  "kernelspec": {
   "display_name": "rbc-pinn-surrogate (3.11.11)",
   "language": "python",
   "name": "python3"
  },
  "language_info": {
   "codemirror_mode": {
    "name": "ipython",
    "version": 3
   },
   "file_extension": ".py",
   "mimetype": "text/x-python",
   "name": "python",
   "nbconvert_exporter": "python",
   "pygments_lexer": "ipython3",
   "version": "3.11.11"
  }
 },
 "nbformat": 4,
 "nbformat_minor": 5
}
