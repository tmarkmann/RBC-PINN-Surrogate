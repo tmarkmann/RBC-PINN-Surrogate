{
 "cells": [
  {
   "cell_type": "code",
   "execution_count": 20,
   "id": "c1b164c9",
   "metadata": {},
   "outputs": [],
   "source": [
    "import matplotlib as mpl\n",
    "import matplotlib.pyplot as plt\n",
    "import pandas as pd\n",
    "import os\n",
    "import shutil\n",
    "import numpy as np"
   ]
  },
  {
   "cell_type": "code",
   "execution_count": 9,
   "id": "e762a652",
   "metadata": {},
   "outputs": [
    {
     "name": "stdout",
     "output_type": "stream",
     "text": [
      "LaTeX found at: /Library/TeX/texbin/latex\n"
     ]
    }
   ],
   "source": [
    "# matplotlib settings to match LaTeX fonts and style\n",
    "latex_path = shutil.which(\"latex\")\n",
    "print(\"LaTeX found at:\", latex_path if latex_path else \"Not found in PATH\")\n",
    "\n",
    "mpl.rcParams.update(\n",
    "    {\n",
    "        \"text.usetex\": True,\n",
    "        \"font.family\": \"serif\",  # Computer Modern serif\n",
    "        \"text.latex.preamble\": r\"\\usepackage[T1]{fontenc}\\usepackage{amsmath,amssymb,bm}\",\n",
    "        \"axes.labelsize\": 9,  # adjust to match \\small or \\normalsize\n",
    "        \"font.size\": 9,\n",
    "        \"legend.fontsize\": 8,\n",
    "        \"xtick.labelsize\": 8,\n",
    "        \"ytick.labelsize\": 8,\n",
    "    }\n",
    ")\n",
    "\n",
    "\n",
    "def set_size(width_pt=455, fraction=1, aspect=0.62):\n",
    "    \"\"\"Set figure dimensions to fit LaTeX doc.\"\"\"\n",
    "    inches_per_pt = 1 / 72.27\n",
    "    width_in = width_pt * inches_per_pt * fraction\n",
    "    height_in = width_in * aspect\n",
    "    return (width_in, height_in)"
   ]
  },
  {
   "cell_type": "code",
   "execution_count": 10,
   "id": "d7732d19",
   "metadata": {},
   "outputs": [],
   "source": [
    "def get_df(model, table, ra, seed):\n",
    "    path = f\"results/{model}/{table}/ra{ra}-{seed}.csv\"\n",
    "    if not os.path.exists(path):\n",
    "        return None\n",
    "    df = pd.read_csv(path)\n",
    "    df[\"model\"] = model\n",
    "    df[\"ra\"] = ra\n",
    "    df[\"seed\"] = seed\n",
    "    return df\n",
    "\n",
    "\n",
    "models = [\"3d-lran\", \"3d-fno\", \"3d-lstm\"]\n",
    "ras = [2500]\n",
    "seeds = [0, 1, 2]\n",
    "\n",
    "metric = \"nrsse\"\n",
    "\n",
    "# collect all data into one big DataFrame\n",
    "df = pd.concat(\n",
    "    [get_df(m, \"metrics\", r, seed) for m in models for r in ras for seed in seeds],\n",
    "    ignore_index=True,\n",
    ")\n",
    "\n",
    "\n",
    "def model2name(model):\n",
    "    if model == \"3d-lran\":\n",
    "        return \"LRAN\"\n",
    "    elif model == \"3d-fno\":\n",
    "        return \"FNO\"\n",
    "    elif model == \"3d-lstm\":\n",
    "        return \"AE+LSTM\"\n",
    "    else:\n",
    "        return model"
   ]
  },
  {
   "cell_type": "markdown",
   "id": "d078c699",
   "metadata": {},
   "source": [
    "# Prediction Error vs Ra"
   ]
  },
  {
   "cell_type": "code",
   "execution_count": 11,
   "id": "44ab6875",
   "metadata": {},
   "outputs": [
    {
     "data": {
      "image/png": "[encoded data removed]",
      "text/plain": [
       "<Figure size 440.708x273.239 with 1 Axes>"
      ]
     },
     "metadata": {},
     "output_type": "display_data"
    }
   ],
   "source": [
    "# TODO debug filter; filter out steps above 30\n",
    "# df = df[df[\"step\"] <= 30]\n",
    "# df = df[df[\"ra\"] >= 300000]\n",
    "\n",
    "# 1) collapse each run (model, ra, seed) to a single scalar: mean error over all samples & timesteps\n",
    "per_run = (\n",
    "    df.groupby([\"model\", \"ra\", \"seed\"], as_index=False)[metric]\n",
    "    .mean()\n",
    "    .rename(columns={metric: \"run_mean\"})\n",
    ")\n",
    "\n",
    "# 2) aggregate across seeds (between-run variability)\n",
    "summary = (\n",
    "    per_run.groupby([\"model\", \"ra\"])[\"run_mean\"]\n",
    "    .agg(mu=\"mean\", sigma=\"std\", n_runs=\"count\", best=\"min\", median=\"median\")\n",
    "    .reset_index()\n",
    ")\n",
    "\n",
    "# standard error and 95% CI for convenience\n",
    "# summary[\"se\"] = summary[\"sigma\"] / np.sqrt(summary[\"n_runs\"]).replace(0, np.nan)\n",
    "# summary[\"ci95\"] = 1.96 * summary[\"se\"]\n",
    "\n",
    "# nice sort by Ra (numeric) and model\n",
    "summary = summary.sort_values([\"model\", \"ra\"]).reset_index(drop=True)\n",
    "fig, ax = plt.subplots(figsize=set_size(455, fraction=0.7))\n",
    "\n",
    "for model, sub in summary.groupby(\"model\"):\n",
    "    x = sub[\"ra\"].values\n",
    "    y = sub[\"mu\"].values\n",
    "    yerr = sub[\"sigma\"].values\n",
    "    ax.errorbar(x, y, yerr=yerr, marker=\"o\", capsize=3, label=model2name(model))\n",
    "\n",
    "ax.set_xlabel(r\"Rayleigh number ($\\mathrm{Ra}$)\")\n",
    "ax.set_ylabel(r\"Prediction error\")\n",
    "ax.set_xscale(\"log\")\n",
    "ax.set_ylim(bottom=0)\n",
    "ax.legend(frameon=False)\n",
    "fig.tight_layout(pad=0.5)\n",
    "\n",
    "# --- Save as vector PDF for LaTeX ---\n",
    "fig.savefig(\"figs/error_vs_ra.pdf\")"
   ]
  },
  {
   "cell_type": "markdown",
   "id": "52038cc0",
   "metadata": {},
   "source": [
    "# Prediction Error vs Time in Sequence"
   ]
  },
  {
   "cell_type": "code",
   "execution_count": 12,
   "id": "187572a7",
   "metadata": {},
   "outputs": [
    {
     "name": "stdout",
     "output_type": "stream",
     "text": [
      "     model  step        mu     sigma\n",
      "99  3d-fno    99  0.692051  0.081593\n"
     ]
    },
    {
     "data": {
      "image/png": "[encoded data removed]",
      "text/plain": [
       "<Figure size 377.75x234.205 with 1 Axes>"
      ]
     },
     "metadata": {},
     "output_type": "display_data"
    }
   ],
   "source": [
    "RA = 2500\n",
    "\n",
    "d = df.copy()\n",
    "d = d[d[\"ra\"] == RA]\n",
    "\n",
    "# 1) Per-run, per-time mean and std over samples (within-run stats)\n",
    "# count is helpful for pooled std later\n",
    "per_run_time = (\n",
    "    d.groupby([\"model\", \"seed\", \"step\"])[metric].agg(run_mean=\"mean\").reset_index()\n",
    ")\n",
    "\n",
    "# 2) Aggregate across seeds at each time\n",
    "across = (\n",
    "    per_run_time.groupby([\"model\", \"step\"])[\"run_mean\"]\n",
    "    .agg(mu=\"mean\", sigma=\"std\")\n",
    "    .reset_index()\n",
    "    .sort_values([\"model\", \"step\"])\n",
    "    .reset_index(drop=True)\n",
    ")\n",
    "\n",
    "print(across[across[\"step\"] == 99])\n",
    "\n",
    "fig, ax = plt.subplots(figsize=set_size(455, fraction=0.6))\n",
    "\n",
    "for model, sub in across.groupby(\"model\"):\n",
    "    x = sub[\"step\"].values\n",
    "    mu = sub[\"mu\"].values\n",
    "    sig = sub[\"sigma\"].values\n",
    "    plt.plot(x, mu, label=model2name(model))\n",
    "    plt.fill_between(x, mu - sig, mu + sig, alpha=0.25)\n",
    "\n",
    "ax.set_xlabel(r\"Time step\")\n",
    "ax.set_ylabel(r\"Prediction error\")\n",
    "# ax.set_title(rf\"Rayleigh number ($\\mathrm{{Ra}}={RA:.0e}$)\")\n",
    "ax.set_ylim(bottom=0, top=1.1)\n",
    "ax.set_xlim(left=0, right=100)\n",
    "ax.legend(frameon=False)\n",
    "fig.tight_layout(pad=0.5)\n",
    "\n",
    "# --- Save as vector PDF for LaTeX ---\n",
    "fig.savefig(f\"figs/error_vs_time_ra{RA}.pdf\")"
   ]
  },
  {
   "cell_type": "markdown",
   "id": "91d8ce38",
   "metadata": {},
   "source": [
    "## Nusselt Number"
   ]
  },
  {
   "cell_type": "code",
   "execution_count": 13,
   "id": "b443638d",
   "metadata": {},
   "outputs": [
    {
     "data": {
      "image/png": "[encoded data removed]",
      "text/plain": [
       "<Figure size 377.75x234.205 with 1 Axes>"
      ]
     },
     "metadata": {},
     "output_type": "display_data"
    }
   ],
   "source": [
    "df_nu = pd.concat(\n",
    "    [get_df(m, \"nusselt\", r, seed) for m in models for r in ras for seed in seeds],\n",
    "    ignore_index=True,\n",
    ")\n",
    "\n",
    "RA = 2500\n",
    "df_nu = df_nu[df_nu[\"ra\"] == RA]\n",
    "\n",
    "# get mean per step and nodel\n",
    "mean_df = df_nu.groupby([\"step\", \"model\"], as_index=False)[\n",
    "    [\"nu_pred\", \"nu_target\"]\n",
    "].mean()\n",
    "\n",
    "# get per model\n",
    "mean_df_lran = mean_df[mean_df[\"model\"] == \"3d-lran\"]\n",
    "mean_df_fno = mean_df[mean_df[\"model\"] == \"3d-fno\"]\n",
    "\n",
    "\n",
    "fig, ax = plt.subplots(figsize=set_size(455, fraction=0.6))\n",
    "plt.plot(mean_df_fno[\"step\"], mean_df_fno[\"nu_pred\"], label=\"FNO\")\n",
    "plt.plot(mean_df_lran[\"step\"], mean_df_lran[\"nu_pred\"], label=\"LRAN\")\n",
    "plt.plot(mean_df_fno[\"step\"], mean_df_fno[\"nu_target\"], label=\"Ground Truth\")\n",
    "\n",
    "\n",
    "ax.set_xlabel(r\"Time step\")\n",
    "ax.set_ylabel(r\"${\\langle q \\rangle}_A$\")\n",
    "# ax.set_title(rf\"Rayleigh number ($\\mathrm{{Ra}}={RA:.0e}$)\")\n",
    "ax.set_ylim(bottom=0.015, top=0.023)\n",
    "ax.set_xlim(left=0, right=100)\n",
    "ax.legend(frameon=False)\n",
    "fig.tight_layout(pad=0.5)\n",
    "\n",
    "plt.show()"
   ]
  },
  {
   "cell_type": "markdown",
   "id": "faae7ffd",
   "metadata": {},
   "source": [
    "# Q Profile"
   ]
  },
  {
   "cell_type": "code",
   "execution_count": 14,
   "id": "1297388e",
   "metadata": {},
   "outputs": [
    {
     "ename": "KeyError",
     "evalue": "'3d-lran'",
     "output_type": "error",
     "traceback": [
      "\u001b[31m---------------------------------------------------------------------------\u001b[39m",
      "\u001b[31mKeyError\u001b[39m                                  Traceback (most recent call last)",
      "\u001b[36mFile \u001b[39m\u001b[32m~/sail/RBC-PINN-Surrogate/.venv/lib/python3.11/site-packages/pandas/core/indexes/base.py:3812\u001b[39m, in \u001b[36mIndex.get_loc\u001b[39m\u001b[34m(self, key)\u001b[39m\n\u001b[32m   3811\u001b[39m \u001b[38;5;28;01mtry\u001b[39;00m:\n\u001b[32m-> \u001b[39m\u001b[32m3812\u001b[39m     \u001b[38;5;28;01mreturn\u001b[39;00m \u001b[38;5;28;43mself\u001b[39;49m\u001b[43m.\u001b[49m\u001b[43m_engine\u001b[49m\u001b[43m.\u001b[49m\u001b[43mget_loc\u001b[49m\u001b[43m(\u001b[49m\u001b[43mcasted_key\u001b[49m\u001b[43m)\u001b[49m\n\u001b[32m   3813\u001b[39m \u001b[38;5;28;01mexcept\u001b[39;00m \u001b[38;5;167;01mKeyError\u001b[39;00m \u001b[38;5;28;01mas\u001b[39;00m err:\n",
      "\u001b[36mFile \u001b[39m\u001b[32mpandas/_libs/index.pyx:167\u001b[39m, in \u001b[36mpandas._libs.index.IndexEngine.get_loc\u001b[39m\u001b[34m()\u001b[39m\n",
      "\u001b[36mFile \u001b[39m\u001b[32mpandas/_libs/index.pyx:196\u001b[39m, in \u001b[36mpandas._libs.index.IndexEngine.get_loc\u001b[39m\u001b[34m()\u001b[39m\n",
      "\u001b[36mFile \u001b[39m\u001b[32mpandas/_libs/hashtable_class_helper.pxi:7088\u001b[39m, in \u001b[36mpandas._libs.hashtable.PyObjectHashTable.get_item\u001b[39m\u001b[34m()\u001b[39m\n",
      "\u001b[36mFile \u001b[39m\u001b[32mpandas/_libs/hashtable_class_helper.pxi:7096\u001b[39m, in \u001b[36mpandas._libs.hashtable.PyObjectHashTable.get_item\u001b[39m\u001b[34m()\u001b[39m\n",
      "\u001b[31mKeyError\u001b[39m: '3d-lran'",
      "\nThe above exception was the direct cause of the following exception:\n",
      "\u001b[31mKeyError\u001b[39m                                  Traceback (most recent call last)",
      "\u001b[36mCell\u001b[39m\u001b[36m \u001b[39m\u001b[32mIn[14]\u001b[39m\u001b[32m, line 22\u001b[39m\n\u001b[32m     19\u001b[39m fig, ax = plt.subplots(figsize=set_size(\u001b[32m455\u001b[39m, fraction=\u001b[32m0.6\u001b[39m, aspect=\u001b[32m1\u001b[39m))\n\u001b[32m     21\u001b[39m \u001b[38;5;28;01mfor\u001b[39;00m model, label \u001b[38;5;129;01min\u001b[39;00m \u001b[38;5;28mzip\u001b[39m([\u001b[33m\"\u001b[39m\u001b[33m3d-fno\u001b[39m\u001b[33m\"\u001b[39m, \u001b[33m\"\u001b[39m\u001b[33m3d-lran\u001b[39m\u001b[33m\"\u001b[39m], [\u001b[33m\"\u001b[39m\u001b[33mFNO\u001b[39m\u001b[33m\"\u001b[39m, \u001b[33m\"\u001b[39m\u001b[33mLRAN\u001b[39m\u001b[33m\"\u001b[39m]):\n\u001b[32m---> \u001b[39m\u001b[32m22\u001b[39m     plt.plot(\u001b[43mdf_q_half\u001b[49m\u001b[43m[\u001b[49m\u001b[43mmodel\u001b[49m\u001b[43m]\u001b[49m, df_q_half[\u001b[33m\"\u001b[39m\u001b[33mheight\u001b[39m\u001b[33m\"\u001b[39m], label=label)\n\u001b[32m     23\u001b[39m plt.plot(df_q_half[\u001b[33m\"\u001b[39m\u001b[33mq_target\u001b[39m\u001b[33m\"\u001b[39m], df_q_half[\u001b[33m\"\u001b[39m\u001b[33mheight\u001b[39m\u001b[33m\"\u001b[39m], \u001b[33m\"\u001b[39m\u001b[33mk--\u001b[39m\u001b[33m\"\u001b[39m, label=\u001b[33m\"\u001b[39m\u001b[33mGround Truth\u001b[39m\u001b[33m\"\u001b[39m)\n\u001b[32m     25\u001b[39m ax.set_xlabel(\u001b[33mr\u001b[39m\u001b[33m\"\u001b[39m\u001b[33m$\u001b[39m\u001b[33m{\u001b[39m\u001b[33m\\\u001b[39m\u001b[33mlangle q \u001b[39m\u001b[33m\\\u001b[39m\u001b[33mrangle}_\u001b[39m\u001b[38;5;132;01m{xy}\u001b[39;00m\u001b[33m$\u001b[39m\u001b[33m\"\u001b[39m)\n",
      "\u001b[36mFile \u001b[39m\u001b[32m~/sail/RBC-PINN-Surrogate/.venv/lib/python3.11/site-packages/pandas/core/frame.py:4107\u001b[39m, in \u001b[36mDataFrame.__getitem__\u001b[39m\u001b[34m(self, key)\u001b[39m\n\u001b[32m   4105\u001b[39m \u001b[38;5;28;01mif\u001b[39;00m \u001b[38;5;28mself\u001b[39m.columns.nlevels > \u001b[32m1\u001b[39m:\n\u001b[32m   4106\u001b[39m     \u001b[38;5;28;01mreturn\u001b[39;00m \u001b[38;5;28mself\u001b[39m._getitem_multilevel(key)\n\u001b[32m-> \u001b[39m\u001b[32m4107\u001b[39m indexer = \u001b[38;5;28;43mself\u001b[39;49m\u001b[43m.\u001b[49m\u001b[43mcolumns\u001b[49m\u001b[43m.\u001b[49m\u001b[43mget_loc\u001b[49m\u001b[43m(\u001b[49m\u001b[43mkey\u001b[49m\u001b[43m)\u001b[49m\n\u001b[32m   4108\u001b[39m \u001b[38;5;28;01mif\u001b[39;00m is_integer(indexer):\n\u001b[32m   4109\u001b[39m     indexer = [indexer]\n",
      "\u001b[36mFile \u001b[39m\u001b[32m~/sail/RBC-PINN-Surrogate/.venv/lib/python3.11/site-packages/pandas/core/indexes/base.py:3819\u001b[39m, in \u001b[36mIndex.get_loc\u001b[39m\u001b[34m(self, key)\u001b[39m\n\u001b[32m   3814\u001b[39m     \u001b[38;5;28;01mif\u001b[39;00m \u001b[38;5;28misinstance\u001b[39m(casted_key, \u001b[38;5;28mslice\u001b[39m) \u001b[38;5;129;01mor\u001b[39;00m (\n\u001b[32m   3815\u001b[39m         \u001b[38;5;28misinstance\u001b[39m(casted_key, abc.Iterable)\n\u001b[32m   3816\u001b[39m         \u001b[38;5;129;01mand\u001b[39;00m \u001b[38;5;28many\u001b[39m(\u001b[38;5;28misinstance\u001b[39m(x, \u001b[38;5;28mslice\u001b[39m) \u001b[38;5;28;01mfor\u001b[39;00m x \u001b[38;5;129;01min\u001b[39;00m casted_key)\n\u001b[32m   3817\u001b[39m     ):\n\u001b[32m   3818\u001b[39m         \u001b[38;5;28;01mraise\u001b[39;00m InvalidIndexError(key)\n\u001b[32m-> \u001b[39m\u001b[32m3819\u001b[39m     \u001b[38;5;28;01mraise\u001b[39;00m \u001b[38;5;167;01mKeyError\u001b[39;00m(key) \u001b[38;5;28;01mfrom\u001b[39;00m\u001b[38;5;250m \u001b[39m\u001b[34;01merr\u001b[39;00m\n\u001b[32m   3820\u001b[39m \u001b[38;5;28;01mexcept\u001b[39;00m \u001b[38;5;167;01mTypeError\u001b[39;00m:\n\u001b[32m   3821\u001b[39m     \u001b[38;5;66;03m# If we have a listlike key, _check_indexing_error will raise\u001b[39;00m\n\u001b[32m   3822\u001b[39m     \u001b[38;5;66;03m#  InvalidIndexError. Otherwise we fall through and re-raise\u001b[39;00m\n\u001b[32m   3823\u001b[39m     \u001b[38;5;66;03m#  the TypeError.\u001b[39;00m\n\u001b[32m   3824\u001b[39m     \u001b[38;5;28mself\u001b[39m._check_indexing_error(key)\n",
      "\u001b[31mKeyError\u001b[39m: '3d-lran'"
     ]
    },
    {
     "data": {
      "image/png": "[encoded data removed]",
      "text/plain": [
       "<Figure size 377.75x377.75 with 1 Axes>"
      ]
     },
     "metadata": {},
     "output_type": "display_data"
    }
   ],
   "source": [
    "df_q_profile = pd.concat(\n",
    "    [get_df(m, \"q-profile\", r, seed) for m in models for r in ras for seed in seeds],\n",
    "    ignore_index=True,\n",
    ")\n",
    "\n",
    "# get mean per step and nodel\n",
    "df_q_profile = df_q_profile.groupby([\"height\", \"model\"], as_index=False)[\n",
    "    [\"q_pred\", \"q_target\"]\n",
    "].mean()\n",
    "\n",
    "wide_q_df = df_q_profile.pivot(\n",
    "    index=\"height\", columns=\"model\", values=\"q_pred\"\n",
    ").reset_index()\n",
    "wide_q_df[\"q_target\"] = df_q_profile.groupby(\"height\")[\"q_target\"].first().values\n",
    "\n",
    "cutoff = wide_q_df[\"height\"].max() / 2\n",
    "df_q_half = wide_q_df[wide_q_df[\"height\"] <= cutoff]\n",
    "\n",
    "fig, ax = plt.subplots(figsize=set_size(455, fraction=0.6, aspect=1))\n",
    "\n",
    "for model, label in zip([\"3d-fno\", \"3d-lran\"], [\"FNO\", \"LRAN\"]):\n",
    "    plt.plot(df_q_half[model], df_q_half[\"height\"], label=label)\n",
    "plt.plot(df_q_half[\"q_target\"], df_q_half[\"height\"], \"k--\", label=\"Ground Truth\")\n",
    "\n",
    "ax.set_xlabel(r\"${\\langle q \\rangle}_{xy}$\")\n",
    "ax.set_ylabel(r\"z\")\n",
    "ax.set_ylim(bottom=0, top=cutoff - 1)\n",
    "ax.set_yticks([0, 7.5, 15], labels=[-1, -0.5, 0])\n",
    "\n",
    "ax.legend(frameon=False)\n",
    "fig.tight_layout(pad=0.5)\n",
    "\n",
    "plt.show()"
   ]
  },
  {
   "cell_type": "markdown",
   "id": "95ac4225",
   "metadata": {},
   "source": [
    "# Q' Profile"
   ]
  },
  {
   "cell_type": "code",
   "execution_count": null,
   "id": "ef6ed71f",
   "metadata": {},
   "outputs": [],
   "source": [
    "df_qp_profile = pd.concat(\n",
    "    [get_df(m, \"qp-profile\", r, seed) for m in models for r in ras for seed in seeds],\n",
    "    ignore_index=True,\n",
    ")\n",
    "\n",
    "# get mean per step and nodel\n",
    "df_qp_profile = df_qp_profile.groupby([\"height\", \"model\"], as_index=False)[\n",
    "    [\"q_pred\", \"q_target\"]\n",
    "].mean()\n",
    "\n",
    "wide_qp_df = df_qp_profile.pivot(\n",
    "    index=\"height\", columns=\"model\", values=\"q_pred\"\n",
    ").reset_index()\n",
    "wide_qp_df[\"q_target\"] = df_qp_profile.groupby(\"height\")[\"q_target\"].first().values\n",
    "\n",
    "cutoff = wide_qp_df[\"height\"].max() / 2\n",
    "df_qp_half = wide_qp_df[wide_qp_df[\"height\"] <= cutoff]\n",
    "\n",
    "fig, ax = plt.subplots(figsize=set_size(455, fraction=0.6, aspect=1))\n",
    "\n",
    "for model, label in zip([\"3d-fno\", \"3d-lran\"], [\"FNO\", \"LRAN\"]):\n",
    "    plt.plot(df_qp_half[model], df_qp_half[\"height\"], label=label)\n",
    "plt.plot(df_qp_half[\"q_target\"], df_qp_half[\"height\"], \"k--\", label=\"Ground Truth\")\n",
    "\n",
    "ax.set_xlabel(r\"${\\langle q \\rangle}_{xy}$\")\n",
    "ax.set_ylabel(r\"z\")\n",
    "ax.set_ylim(bottom=0, top=cutoff - 1)\n",
    "ax.set_yticks([0, 7.5, 15], labels=[-1, -0.5, 0])\n",
    "\n",
    "ax.legend(frameon=False)\n",
    "fig.tight_layout(pad=0.5)\n",
    "\n",
    "plt.show()"
   ]
  },
  {
   "cell_type": "markdown",
   "id": "edf8a89f",
   "metadata": {},
   "source": [
    "# Q' Histogram"
   ]
  },
  {
   "cell_type": "code",
   "execution_count": 29,
   "id": "ed4bb6f7",
   "metadata": {},
   "outputs": [
    {
     "name": "stdout",
     "output_type": "stream",
     "text": [
      "['[0.0, 0.0, 0.0, 0.0, 0.0, 0.0, 0.0, 0.0, 0.0, 0.0, 0.0, 0.0, 0.0, 0.0, 0.0, 0.0, 0.0, 0.0, 0.0, 0.0, 0.0, 0.0, 0.0, 0.0, 0.0, 0.0, 0.0, 0.0, 0.0, 0.0, 0.0, 0.0, 0.0, 0.0, 0.0, 0.0, 0.0, 0.0, 0.0, 0.0, 0.0, 0.0, 0.0, 0.0, 0.0, 0.0, 0.0, 0.039496528660593985, 2.2484809530352434, 25.707682866278155, 15.531250347150499, 6.090060900012357, 0.3689236193571966, 0.014105903093069283, 0.0, 0.0, 0.0, 0.0, 0.0, 0.0, 0.0, 0.0, 0.0, 0.0, 0.0, 0.0, 0.0, 0.0, 0.0, 0.0, 0.0, 0.0, 0.0, 0.0, 0.0, 0.0, 0.0, 0.0, 0.0, 0.0, 0.0, 0.0, 0.0, 0.0, 0.0, 0.0, 0.0, 0.0, 0.0, 0.0, 0.0, 0.0, 0.0, 0.0, 0.0, 0.0, 0.0, 0.0, 0.0, 0.0]'\n",
      " '[0.0, 0.0, 0.0, 0.0, 0.0, 0.0, 0.0, 0.0, 0.0, 0.0, 0.0, 0.0, 0.0, 0.0, 0.0, 0.0, 0.0, 0.0, 0.0, 0.0, 0.0, 0.0, 0.0, 0.0, 0.0, 0.0, 0.0, 0.0, 0.0, 0.0, 0.0, 0.0, 0.0, 0.0, 0.0, 0.0, 0.0, 0.0, 0.0, 0.0, 0.0, 0.0, 0.0, 0.0, 0.0, 0.0, 0.019748264330296993, 0.27105035328066973, 2.0188802534588235, 25.727648144502194, 15.440321525673635, 5.998264022960537, 0.5173611226750333, 0.006727430705925349, 0.0, 0.0, 0.0, 0.0, 0.0, 0.0, 0.0, 0.0, 0.0, 0.0, 0.0, 0.0, 0.0, 0.0, 0.0, 0.0, 0.0, 0.0, 0.0, 0.0, 0.0, 0.0, 0.0, 0.0, 0.0, 0.0, 0.0, 0.0, 0.0, 0.0, 0.0, 0.0, 0.0, 0.0, 0.0, 0.0, 0.0, 0.0, 0.0, 0.0, 0.0, 0.0, 0.0, 0.0, 0.0, 0.0]'\n",
      " '[0.0, 0.0, 0.0, 0.0, 0.0, 0.0, 0.0, 0.0, 0.0, 0.0, 0.0, 0.0, 0.0, 0.0, 0.0, 0.0, 0.0, 0.0, 0.0, 0.0, 0.0, 0.0, 0.0, 0.0, 0.0, 0.0, 0.0, 0.0, 0.0, 0.0, 0.0, 0.0, 0.0, 0.0, 0.0, 0.0, 0.0, 0.0, 0.0, 0.0, 0.0, 0.0, 0.0, 0.0, 0.0, 0.0, 0.0, 0.04448784821660312, 2.418836859620772, 25.56380265472885, 15.567925695192478, 5.980034855886418, 0.4071180646553534, 0.017795139286641247, 0.0, 0.0, 0.0, 0.0, 0.0, 0.0, 0.0, 0.0, 0.0, 0.0, 0.0, 0.0, 0.0, 0.0, 0.0, 0.0, 0.0, 0.0, 0.0, 0.0, 0.0, 0.0, 0.0, 0.0, 0.0, 0.0, 0.0, 0.0, 0.0, 0.0, 0.0, 0.0, 0.0, 0.0, 0.0, 0.0, 0.0, 0.0, 0.0, 0.0, 0.0, 0.0, 0.0, 0.0, 0.0, 0.0]'\n",
      " '[0.0, 0.0, 0.0, 0.0, 0.0, 0.0, 0.0, 0.0, 0.0, 0.0, 0.0, 0.0, 0.0, 0.0, 0.0, 0.0, 0.0, 0.0, 0.0, 0.0, 0.0, 0.0, 0.0, 0.0, 0.0, 0.0, 0.0, 0.0, 0.0, 0.0, 0.0, 0.0, 0.0, 0.0, 0.0, 0.0, 0.0, 0.0, 0.0, 0.0, 0.0, 0.0, 0.0, 0.0, 0.0, 0.0, 0.02756076450491998, 0.3619791747575317, 2.012369836646638, 25.235243619607203, 15.789496880700534, 6.195312638476028, 0.36870660546345707, 0.009331597430799678, 0.0, 0.0, 0.0, 0.0, 0.0, 0.0, 0.0, 0.0, 0.0, 0.0, 0.0, 0.0, 0.0, 0.0, 0.0, 0.0, 0.0, 0.0, 0.0, 0.0, 0.0, 0.0, 0.0, 0.0, 0.0, 0.0, 0.0, 0.0, 0.0, 0.0, 0.0, 0.0, 0.0, 0.0, 0.0, 0.0, 0.0, 0.0, 0.0, 0.0, 0.0, 0.0, 0.0, 0.0, 0.0, 0.0]'\n",
      " '[0.0, 0.0, 0.0, 0.0, 0.0, 0.0, 0.0, 0.0, 0.0, 0.0, 0.0, 0.0, 0.0, 0.0, 0.0, 0.0, 0.0, 0.0, 0.0, 0.0, 0.0, 0.0, 0.0, 0.0, 0.0, 0.0, 0.0, 0.0, 0.0, 0.0, 0.0, 0.0, 0.0, 0.0, 0.0, 0.0, 0.0, 0.0, 0.0, 0.0, 0.0, 0.0, 0.0, 0.0, 0.0, 0.0, 0.0, 0.10373264120749409, 2.2378472722420066, 25.689887726991515, 15.008246863238236, 6.396267504078831, 0.5075954974567546, 0.04383680653538454, 0.012586803492417689, 0.0, 0.0, 0.0, 0.0, 0.0, 0.0, 0.0, 0.0, 0.0, 0.0, 0.0, 0.0, 0.0, 0.0, 0.0, 0.0, 0.0, 0.0, 0.0, 0.0, 0.0, 0.0, 0.0, 0.0, 0.0, 0.0, 0.0, 0.0, 0.0, 0.0, 0.0, 0.0, 0.0, 0.0, 0.0, 0.0, 0.0, 0.0, 0.0, 0.0, 0.0, 0.0, 0.0, 0.0, 0.0]'\n",
      " '[0.0, 0.0, 0.0, 0.0, 0.0, 0.0, 0.0, 0.0, 0.0, 0.0, 0.0, 0.0, 0.0, 0.0, 0.0, 0.0, 0.0, 0.0, 0.0, 0.0, 0.0, 0.0, 0.0, 0.0, 0.0, 0.0, 0.0, 0.0, 0.0, 0.0, 0.0, 0.0, 0.0, 0.0, 0.0, 0.0, 0.0, 0.0, 0.0, 0.0, 0.0, 0.0, 0.0, 0.0, 0.0, 0.0, 0.016059028136725027, 0.23090278293885716, 2.103515672017239, 25.477431125020516, 15.398003816394429, 6.135850831591398, 0.5952691105275236, 0.0403645842355521, 0.0026041662398105566, 0.0, 0.0, 0.0, 0.0, 0.0, 0.0, 0.0, 0.0, 0.0, 0.0, 0.0, 0.0, 0.0, 0.0, 0.0, 0.0, 0.0, 0.0, 0.0, 0.0, 0.0, 0.0, 0.0, 0.0, 0.0, 0.0, 0.0, 0.0, 0.0, 0.0, 0.0, 0.0, 0.0, 0.0, 0.0, 0.0, 0.0, 0.0, 0.0, 0.0, 0.0, 0.0, 0.0, 0.0, 0.0]']\n"
     ]
    },
    {
     "ename": "TypeError",
     "evalue": "the resolved dtypes are not compatible with add.reduce. Resolved (dtype('<U639'), dtype('<U639'), dtype('<U1278'))",
     "output_type": "error",
     "traceback": [
      "\u001b[31m---------------------------------------------------------------------------\u001b[39m",
      "\u001b[31mTypeError\u001b[39m                                 Traceback (most recent call last)",
      "\u001b[36mCell\u001b[39m\u001b[36m \u001b[39m\u001b[32mIn[29]\u001b[39m\u001b[32m, line 20\u001b[39m\n\u001b[32m     17\u001b[39m     H = np.stack(rows[\u001b[33m\"\u001b[39m\u001b[33mhist_pred\u001b[39m\u001b[33m\"\u001b[39m].to_numpy(), axis=\u001b[32m0\u001b[39m)  \u001b[38;5;66;03m# [N, bins]\u001b[39;00m\n\u001b[32m     18\u001b[39m     \u001b[38;5;28mprint\u001b[39m(H)\n\u001b[32m---> \u001b[39m\u001b[32m20\u001b[39m     pdf_mean = \u001b[43mH\u001b[49m\u001b[43m.\u001b[49m\u001b[43mmean\u001b[49m\u001b[43m(\u001b[49m\u001b[43maxis\u001b[49m\u001b[43m=\u001b[49m\u001b[32;43m0\u001b[39;49m\u001b[43m)\u001b[49m\n\u001b[32m     21\u001b[39m     results[key] = {\u001b[33m\"\u001b[39m\u001b[33mpdf_mean\u001b[39m\u001b[33m\"\u001b[39m: pdf_mean, \u001b[33m\"\u001b[39m\u001b[33mn_items\u001b[39m\u001b[33m\"\u001b[39m: H.shape[\u001b[32m0\u001b[39m]}\n\u001b[32m     23\u001b[39m \u001b[38;5;28mprint\u001b[39m(results)\n",
      "\u001b[36mFile \u001b[39m\u001b[32m~/sail/RBC-PINN-Surrogate/.venv/lib/python3.11/site-packages/numpy/_core/_methods.py:134\u001b[39m, in \u001b[36m_mean\u001b[39m\u001b[34m(a, axis, dtype, out, keepdims, where)\u001b[39m\n\u001b[32m    131\u001b[39m         dtype = mu.dtype(\u001b[33m'\u001b[39m\u001b[33mf4\u001b[39m\u001b[33m'\u001b[39m)\n\u001b[32m    132\u001b[39m         is_float16_result = \u001b[38;5;28;01mTrue\u001b[39;00m\n\u001b[32m--> \u001b[39m\u001b[32m134\u001b[39m ret = \u001b[43mumr_sum\u001b[49m\u001b[43m(\u001b[49m\u001b[43marr\u001b[49m\u001b[43m,\u001b[49m\u001b[43m \u001b[49m\u001b[43maxis\u001b[49m\u001b[43m,\u001b[49m\u001b[43m \u001b[49m\u001b[43mdtype\u001b[49m\u001b[43m,\u001b[49m\u001b[43m \u001b[49m\u001b[43mout\u001b[49m\u001b[43m,\u001b[49m\u001b[43m \u001b[49m\u001b[43mkeepdims\u001b[49m\u001b[43m,\u001b[49m\u001b[43m \u001b[49m\u001b[43mwhere\u001b[49m\u001b[43m=\u001b[49m\u001b[43mwhere\u001b[49m\u001b[43m)\u001b[49m\n\u001b[32m    135\u001b[39m \u001b[38;5;28;01mif\u001b[39;00m \u001b[38;5;28misinstance\u001b[39m(ret, mu.ndarray):\n\u001b[32m    136\u001b[39m     ret = um.true_divide(\n\u001b[32m    137\u001b[39m             ret, rcount, out=ret, casting=\u001b[33m'\u001b[39m\u001b[33munsafe\u001b[39m\u001b[33m'\u001b[39m, subok=\u001b[38;5;28;01mFalse\u001b[39;00m)\n",
      "\u001b[31mTypeError\u001b[39m: the resolved dtypes are not compatible with add.reduce. Resolved (dtype('<U639'), dtype('<U639'), dtype('<U1278'))"
     ]
    }
   ],
   "source": [
    "df_hist = pd.concat(\n",
    "    [get_df(m, \"qp-histogram\", r, seed) for m in models for r in ras for seed in seeds],\n",
    "    ignore_index=True,\n",
    ")\n",
    "\n",
    "#z = 5 #  [5, 16, 26]\n",
    "#df_hist = df_hist[df_hist[\"height\"] == z]\n",
    "\n",
    "# get edges\n",
    "xlim = (-1, 1)\n",
    "bins = 100\n",
    "edges = np.linspace(xlim[0], xlim[1], bins + 1)\n",
    "\n",
    "# accumulate over seeds and batches\n",
    "results = {}\n",
    "for key, rows in df_hist.groupby([\"height\",\"model\",\"ra\"]):\n",
    "    H = np.stack(rows[\"hist_pred\"].to_numpy(), axis=0)  # [N, bins]\n",
    "    print(H)\n",
    "\n",
    "    pdf_mean = H.mean(axis=0)\n",
    "    results[key] = {\"pdf_mean\": pdf_mean, \"n_items\": H.shape[0]}\n",
    "\n",
    "print(results)"
   ]
  }
 ],
 "metadata": {
  "kernelspec": {
   "display_name": "rbc-pinn-surrogate (3.11.11)",
   "language": "python",
   "name": "python3"
  },
  "language_info": {
   "codemirror_mode": {
    "name": "ipython",
    "version": 3
   },
   "file_extension": ".py",
   "mimetype": "text/x-python",
   "name": "python",
   "nbconvert_exporter": "python",
   "pygments_lexer": "ipython3",
   "version": "3.11.11"
  }
 },
 "nbformat": 4,
 "nbformat_minor": 5
}
