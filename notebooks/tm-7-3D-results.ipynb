{
 "cells": [
  {
   "cell_type": "code",
   "execution_count": 1,
   "id": "c1b164c9",
   "metadata": {},
   "outputs": [],
   "source": [
    "import matplotlib as mpl\n",
    "import matplotlib.pyplot as plt\n",
    "import pandas as pd\n",
    "import os\n",
    "import shutil"
   ]
  },
  {
   "cell_type": "code",
   "execution_count": null,
   "id": "e762a652",
   "metadata": {},
   "outputs": [
    {
     "name": "stdout",
     "output_type": "stream",
     "text": [
      "LaTeX found at: /Library/TeX/texbin/latex\n"
     ]
    }
   ],
   "source": [
    "# matplotlib settings to match LaTeX fonts and style\n",
    "latex_path = shutil.which(\"latex\")\n",
    "print(\"LaTeX found at:\", latex_path if latex_path else \"Not found in PATH\")\n",
    "\n",
    "mpl.rcParams.update(\n",
    "    {\n",
    "        \"text.usetex\": True,\n",
    "        \"font.family\": \"serif\",  # Computer Modern serif\n",
    "        \"text.latex.preamble\": r\"\\usepackage[T1]{fontenc}\\usepackage{amsmath,amssymb,bm}\",\n",
    "        \"axes.labelsize\": 9,  # adjust to match \\small or \\normalsize\n",
    "        \"font.size\": 9,\n",
    "        \"legend.fontsize\": 8,\n",
    "        \"xtick.labelsize\": 8,\n",
    "        \"ytick.labelsize\": 8,\n",
    "    }\n",
    ")\n",
    "\n",
    "\n",
    "def set_size(width_pt=455, fraction=1, aspect=0.62):\n",
    "    \"\"\"Set figure dimensions to fit LaTeX doc.\"\"\"\n",
    "    inches_per_pt = 1 / 72.27\n",
    "    width_in = width_pt * inches_per_pt * fraction\n",
    "    height_in = width_in * aspect\n",
    "    return (width_in, height_in)"
   ]
  },
  {
   "cell_type": "code",
   "execution_count": 4,
   "id": "d7732d19",
   "metadata": {},
   "outputs": [],
   "source": [
    "def get_df(model, table, ra, seed):\n",
    "    path = f\"results/{model}/{table}/ra{ra}-{seed}.csv\"\n",
    "    if not os.path.exists(path):\n",
    "        return None\n",
    "    df = pd.read_csv(path)\n",
    "    df[\"model\"] = model\n",
    "    df[\"ra\"] = ra\n",
    "    df[\"seed\"] = seed\n",
    "    return df\n",
    "\n",
    "\n",
    "models = [\"3d-lran\", \"3d-fno\", \"3d-lstm\"]\n",
    "ras = [2500]\n",
    "seeds = [0, 1, 2]\n",
    "\n",
    "metric = \"nrsse\"\n",
    "\n",
    "# collect all data into one big DataFrame\n",
    "df = pd.concat(\n",
    "    [get_df(m, \"metrics\", r, seed) for m in models for r in ras for seed in seeds],\n",
    "    ignore_index=True,\n",
    ")\n",
    "\n",
    "\n",
    "def model2name(model):\n",
    "    if model == \"3d-lran\":\n",
    "        return \"LRAN\"\n",
    "    elif model == \"3d-fno\":\n",
    "        return \"FNO\"\n",
    "    elif model == \"3d-lstm\":\n",
    "        return \"AE+LSTM\"\n",
    "    else:\n",
    "        return model"
   ]
  },
  {
   "cell_type": "markdown",
   "id": "d078c699",
   "metadata": {},
   "source": [
    "# Prediction Error vs Ra"
   ]
  },
  {
   "cell_type": "code",
   "execution_count": 4,
   "id": "44ab6875",
   "metadata": {},
   "outputs": [
    {
     "data": {
      "image/png": "[encoded data removed]",
      "text/plain": [
       "<Figure size 440.708x273.239 with 1 Axes>"
      ]
     },
     "metadata": {},
     "output_type": "display_data"
    }
   ],
   "source": [
    "# TODO debug filter; filter out steps above 30\n",
    "# df = df[df[\"step\"] <= 30]\n",
    "# df = df[df[\"ra\"] >= 300000]\n",
    "\n",
    "# 1) collapse each run (model, ra, seed) to a single scalar: mean error over all samples & timesteps\n",
    "per_run = (\n",
    "    df.groupby([\"model\", \"ra\", \"seed\"], as_index=False)[metric]\n",
    "    .mean()\n",
    "    .rename(columns={metric: \"run_mean\"})\n",
    ")\n",
    "\n",
    "# 2) aggregate across seeds (between-run variability)\n",
    "summary = (\n",
    "    per_run.groupby([\"model\", \"ra\"])[\"run_mean\"]\n",
    "    .agg(mu=\"mean\", sigma=\"std\", n_runs=\"count\", best=\"min\", median=\"median\")\n",
    "    .reset_index()\n",
    ")\n",
    "\n",
    "# standard error and 95% CI for convenience\n",
    "# summary[\"se\"] = summary[\"sigma\"] / np.sqrt(summary[\"n_runs\"]).replace(0, np.nan)\n",
    "# summary[\"ci95\"] = 1.96 * summary[\"se\"]\n",
    "\n",
    "# nice sort by Ra (numeric) and model\n",
    "summary = summary.sort_values([\"model\", \"ra\"]).reset_index(drop=True)\n",
    "fig, ax = plt.subplots(figsize=set_size(455, fraction=0.7))\n",
    "\n",
    "for model, sub in summary.groupby(\"model\"):\n",
    "    x = sub[\"ra\"].values\n",
    "    y = sub[\"mu\"].values\n",
    "    yerr = sub[\"sigma\"].values\n",
    "    ax.errorbar(x, y, yerr=yerr, marker=\"o\", capsize=3, label=model2name(model))\n",
    "\n",
    "ax.set_xlabel(r\"Rayleigh number ($\\mathrm{Ra}$)\")\n",
    "ax.set_ylabel(r\"Prediction error\")\n",
    "ax.set_xscale(\"log\")\n",
    "ax.set_ylim(bottom=0)\n",
    "ax.legend(frameon=False)\n",
    "fig.tight_layout(pad=0.5)\n",
    "\n",
    "# --- Save as vector PDF for LaTeX ---\n",
    "fig.savefig(\"figs/error_vs_ra.pdf\")"
   ]
  },
  {
   "cell_type": "markdown",
   "id": "52038cc0",
   "metadata": {},
   "source": [
    "# Prediction Error vs Time in Sequence"
   ]
  },
  {
   "cell_type": "code",
   "execution_count": 18,
   "id": "187572a7",
   "metadata": {},
   "outputs": [
    {
     "name": "stdout",
     "output_type": "stream",
     "text": [
      "       model  step        mu     sigma\n",
      "99    3d-fno    99  0.486706  0.006852\n",
      "199  3d-lran    99  1.080729  0.016966\n",
      "299  3d-lstm    99  0.215123       NaN\n"
     ]
    },
    {
     "data": {
      "image/png": "[encoded data removed]",
      "text/plain": [
       "<Figure size 377.75x234.205 with 1 Axes>"
      ]
     },
     "metadata": {},
     "output_type": "display_data"
    }
   ],
   "source": [
    "RA = 2500\n",
    "\n",
    "d = df.copy()\n",
    "d = d[d[\"ra\"] == RA]\n",
    "\n",
    "# 1) Per-run, per-time mean and std over samples (within-run stats)\n",
    "# count is helpful for pooled std later\n",
    "per_run_time = (\n",
    "    d.groupby([\"model\", \"seed\", \"step\"])[metric].agg(run_mean=\"mean\").reset_index()\n",
    ")\n",
    "\n",
    "# 2) Aggregate across seeds at each time\n",
    "across = (\n",
    "    per_run_time.groupby([\"model\", \"step\"])[\"run_mean\"]\n",
    "    .agg(mu=\"mean\", sigma=\"std\")\n",
    "    .reset_index()\n",
    "    .sort_values([\"model\", \"step\"])\n",
    "    .reset_index(drop=True)\n",
    ")\n",
    "\n",
    "print(across[across[\"step\"] == 99])\n",
    "\n",
    "fig, ax = plt.subplots(figsize=set_size(455, fraction=0.6))\n",
    "\n",
    "for model, sub in across.groupby(\"model\"):\n",
    "    x = sub[\"step\"].values\n",
    "    mu = sub[\"mu\"].values\n",
    "    sig = sub[\"sigma\"].values\n",
    "    plt.plot(x, mu, label=model2name(model))\n",
    "    plt.fill_between(x, mu - sig, mu + sig, alpha=0.25)\n",
    "\n",
    "ax.set_xlabel(r\"Time step\")\n",
    "ax.set_ylabel(r\"Prediction error\")\n",
    "# ax.set_title(rf\"Rayleigh number ($\\mathrm{{Ra}}={RA:.0e}$)\")\n",
    "ax.set_ylim(bottom=0, top=1.1)\n",
    "ax.set_xlim(left=0, right=100)\n",
    "ax.legend(frameon=False)\n",
    "fig.tight_layout(pad=0.5)\n",
    "\n",
    "# --- Save as vector PDF for LaTeX ---\n",
    "fig.savefig(f\"figs/error_vs_time_ra{RA}.pdf\")"
   ]
  },
  {
   "cell_type": "markdown",
   "id": "91d8ce38",
   "metadata": {},
   "source": [
    "## Nusselt Number"
   ]
  },
  {
   "cell_type": "code",
   "execution_count": 5,
   "id": "b443638d",
   "metadata": {},
   "outputs": [
    {
     "name": "stdout",
     "output_type": "stream",
     "text": [
      "        batch_idx  step   nu_pred  nu_target    model    ra  seed    idx\n",
      "0             0.0     0  0.015315   0.021064  3d-lran  2500     0    NaN\n",
      "1             0.0     1  0.015906   0.021266  3d-lran  2500     0    NaN\n",
      "2             0.0     2  0.016202   0.021460  3d-lran  2500     0    NaN\n",
      "3             0.0     3  0.016431   0.021620  3d-lran  2500     0    NaN\n",
      "4             0.0     4  0.016584   0.021724  3d-lran  2500     0    NaN\n",
      "...           ...   ...       ...        ...      ...   ...   ...    ...\n",
      "102995        NaN    95  0.021199   0.020725  3d-lstm  2500     0  999.0\n",
      "102996        NaN    96  0.021226   0.020696  3d-lstm  2500     0  999.0\n",
      "102997        NaN    97  0.021242   0.020691  3d-lstm  2500     0  999.0\n",
      "102998        NaN    98  0.021288   0.020716  3d-lstm  2500     0  999.0\n",
      "102999        NaN    99  0.021382   0.020776  3d-lstm  2500     0  999.0\n",
      "\n",
      "[103000 rows x 8 columns]\n"
     ]
    }
   ],
   "source": [
    "df_nu = pd.concat(\n",
    "    [get_df(m, \"nusselt\", r, seed) for m in models for r in ras for seed in seeds],\n",
    "    ignore_index=True,\n",
    ")\n",
    "\n",
    "RA = 2500\n",
    "df_nu = df_nu[df_nu[\"ra\"] == RA]\n",
    "\n",
    "print(df_nu)"
   ]
  },
  {
   "cell_type": "code",
   "execution_count": 13,
   "id": "185071c8",
   "metadata": {},
   "outputs": [
    {
     "name": "stdout",
     "output_type": "stream",
     "text": [
      "      batch_idx  step   nu_pred  nu_target   model    ra  seed  idx\n",
      "1500        0.0     0  0.020853   0.021064  3d-fno  2500     0  NaN\n",
      "1501        0.0     1  0.020955   0.021266  3d-fno  2500     0  NaN\n",
      "1502        0.0     2  0.020975   0.021460  3d-fno  2500     0  NaN\n",
      "1503        0.0     3  0.021035   0.021620  3d-fno  2500     0  NaN\n",
      "1504        0.0     4  0.020979   0.021724  3d-fno  2500     0  NaN\n",
      "...         ...   ...       ...        ...     ...   ...   ...  ...\n",
      "1595        0.0    95  0.020651   0.021762  3d-fno  2500     0  NaN\n",
      "1596        0.0    96  0.020575   0.021545  3d-fno  2500     0  NaN\n",
      "1597        0.0    97  0.020450   0.021307  3d-fno  2500     0  NaN\n",
      "1598        0.0    98  0.020299   0.021061  3d-fno  2500     0  NaN\n",
      "1599        0.0    99  0.020140   0.020818  3d-fno  2500     0  NaN\n",
      "\n",
      "[100 rows x 8 columns]\n"
     ]
    },
    {
     "data": {
      "image/png": "[encoded data removed]",
      "text/plain": [
       "<Figure size 600x400 with 1 Axes>"
      ]
     },
     "metadata": {},
     "output_type": "display_data"
    }
   ],
   "source": [
    "# Example: filter for model=\"2d-fno\" and batch_idx=0\n",
    "model_name = \"3d-fno\"\n",
    "batch_id = 0\n",
    "\n",
    "df_filtered = df_nu[\n",
    "    (df_nu[\"model\"] == model_name)\n",
    "    & (df_nu[\"batch_idx\"] == batch_id)\n",
    "    & (df_nu[\"seed\"] == 0)\n",
    "]\n",
    "print(df_filtered)\n",
    "\n",
    "plt.figure(figsize=(6, 4))\n",
    "plt.plot(\n",
    "    df_filtered[\"step\"],\n",
    "    df_filtered[\"nu_target\"],\n",
    "    label=f\"{model_name}, batch {batch_id}\",\n",
    ")\n",
    "plt.xlabel(\"Step\")\n",
    "plt.ylabel(\"Nu target\")\n",
    "plt.legend()\n",
    "plt.tight_layout()\n",
    "plt.show()"
   ]
  },
  {
   "cell_type": "code",
   "execution_count": null,
   "id": "3e4dfdc4",
   "metadata": {},
   "outputs": [],
   "source": [
    "fig, ax = plt.subplots(figsize=set_size(455, fraction=0.6))\n",
    "\n",
    "for model, sub in across.groupby(\"model\"):\n",
    "    x = sub[\"step\"].values\n",
    "    mu = sub[\"mu\"].values\n",
    "    sig = sub[\"sigma\"].values\n",
    "    plt.plot(x, mu, label=model2name(model))\n",
    "    plt.fill_between(x, mu - sig, mu + sig, alpha=0.25)\n",
    "\n",
    "ax.set_xlabel(r\"Time step\")\n",
    "ax.set_ylabel(r\"Prediction error\")\n",
    "# ax.set_title(rf\"Rayleigh number ($\\mathrm{{Ra}}={RA:.0e}$)\")\n",
    "ax.set_ylim(bottom=0, top=1.1)\n",
    "ax.set_xlim(left=0, right=100)\n",
    "ax.legend(frameon=False)\n",
    "fig.tight_layout(pad=0.5)\n",
    "\n",
    "# --- Save as vector PDF for LaTeX ---\n",
    "fig.savefig(f\"figs/error_vs_time_ra{RA}.pdf\")"
   ]
  }
 ],
 "metadata": {
  "kernelspec": {
   "display_name": "rbc-pinn-surrogate (3.11.11)",
   "language": "python",
   "name": "python3"
  },
  "language_info": {
   "codemirror_mode": {
    "name": "ipython",
    "version": 3
   },
   "file_extension": ".py",
   "mimetype": "text/x-python",
   "name": "python",
   "nbconvert_exporter": "python",
   "pygments_lexer": "ipython3",
   "version": "3.11.11"
  }
 },
 "nbformat": 4,
 "nbformat_minor": 5
}
